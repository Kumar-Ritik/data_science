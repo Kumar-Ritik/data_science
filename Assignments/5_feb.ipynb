{
 "cells": [
  {
   "cell_type": "markdown",
   "id": "3f4aa781",
   "metadata": {},
   "source": [
    "Q1. Explain Class and Object with respect to Object-Oriented Programming. Give a suitable example."
   ]
  },
  {
   "cell_type": "code",
   "execution_count": 4,
   "id": "1fdf74e7",
   "metadata": {},
   "outputs": [
    {
     "name": "stdout",
     "output_type": "stream",
     "text": [
      "Honda Civic 2022\n"
     ]
    }
   ],
   "source": [
    "# Object-Oriented Programming (OOP) is a programming paradigm that uses\n",
    "# the concept of objects to represent real-world entities and their interactions. \n",
    "# In OOP, a Class is a blueprint or a template for creating objects, \n",
    "# while an Object is an instance of a Class that has its own state and behavior.\n",
    "\n",
    "# A Class is a way to encapsulate related data and functions into a single unit. \n",
    "# It defines the attributes and methods that are common to all objects of that Class. \n",
    "# Objects, on the other hand, are instances of a Class. \n",
    "# Each object has its own unique state (values of attributes) and behavior (methods that can be called on the object).\n",
    "\n",
    "\n",
    "class Car:\n",
    "    def __init__(self, make, model, year):\n",
    "        self.make = make\n",
    "        self.model = model\n",
    "        self.year = year\n",
    "    def display(self):\n",
    "        print(self.make,self.model,self.year)\n",
    "my_car = Car('Honda', 'Civic', 2022)\n",
    "my_car.display()"
   ]
  },
  {
   "cell_type": "markdown",
   "id": "6fec469f",
   "metadata": {},
   "source": [
    "Q2. Name the four pillars of OOPs."
   ]
  },
  {
   "cell_type": "markdown",
   "id": "7d90e57b",
   "metadata": {},
   "source": [
    "Encapsulation\n",
    "\n",
    "\n",
    "Inheritance\n",
    "\n",
    "\n",
    "Polymorphism\n",
    "\n",
    "\n",
    "Abstraction"
   ]
  },
  {
   "cell_type": "markdown",
   "id": "28e22dd0",
   "metadata": {},
   "source": [
    "Q3. Explain why the __init__() function is used. Give a suitable example."
   ]
  },
  {
   "cell_type": "markdown",
   "id": "d822b07d",
   "metadata": {},
   "source": [
    "Init function is used when an object is created. It is used to initialize the object's attributes"
   ]
  },
  {
   "cell_type": "code",
   "execution_count": 5,
   "id": "cba05181",
   "metadata": {},
   "outputs": [
    {
     "name": "stdout",
     "output_type": "stream",
     "text": [
      "Honda Civic 2022\n"
     ]
    }
   ],
   "source": [
    "class Car:\n",
    "    def __init__(self, make, model, year):\n",
    "        self.make = make\n",
    "        self.model = model\n",
    "        self.year = year\n",
    "    def display(self):\n",
    "        print(self.make,self.model,self.year)\n",
    "my_car = Car('Honda', 'Civic', 2022)\n",
    "my_car.display()"
   ]
  },
  {
   "cell_type": "markdown",
   "id": "19cb2f9c",
   "metadata": {},
   "source": [
    "Q4. Why self is used in OOPs?"
   ]
  },
  {
   "cell_type": "code",
   "execution_count": null,
   "id": "8b7bc21b",
   "metadata": {},
   "outputs": [],
   "source": []
  },
  {
   "cell_type": "markdown",
   "id": "6e20bbba",
   "metadata": {},
   "source": [
    "Q5. What is inheritance? Give an example for each type of inheritance."
   ]
  },
  {
   "cell_type": "markdown",
   "id": "13626e19",
   "metadata": {},
   "source": [
    "Inheritance is a key concept in object-oriented programming (OOP) that allows a class to inherit properties and methods from another class. \n",
    "\n",
    "The class that is inherited from is known as the parent class, while the class that inherits is called the child class\n",
    "\n",
    "* Single Inheritance: In single inheritance, a child class inherits properties and methods from a single parent class.\n",
    "  \n",
    "class Vehicle:\n",
    "\n",
    "\n",
    "    def __init__(self, brand, model):\n",
    "    \n",
    "        self.brand = brand\n",
    "        self.model = model\n",
    "\n",
    "    def start(self):\n",
    "        print(\"Vehicle started.\")\n",
    "\n",
    "class Car(Vehicle):\n",
    "\n",
    "    def drive(self):\n",
    "        print(f\"Driving {self.brand} {self.model}.\")\n",
    "\n",
    "\n",
    "\n",
    "my_car = Car(\"Toyota\", \"Corolla\")\n",
    "\n",
    "\n",
    "my_car.start()\n",
    "\n",
    "\n",
    "my_car.drive()\n",
    "\n",
    "* Multiple Inheritance: In multiple inheritance, a child class inherits properties and methods from multiple parent classes.\n",
    "\n",
    "\n",
    "class Person:\n",
    "    \n",
    "    def __init__(self, name, age):\n",
    "        self.name = name\n",
    "        self.age = age\n",
    "\n",
    "class Employee:\n",
    "    \n",
    "    def __init__(self, salary):\n",
    "        self.salary = salary\n",
    "\n",
    "    def work(self):\n",
    "        print(\"Working...\")\n",
    "\n",
    "class Manager(Person, Employee):\n",
    "    \n",
    "    def __init__(self, name, age, salary):\n",
    "        Person.__init__(self, name, age)\n",
    "        Employee.__init__(self, salary)\n",
    "\n",
    "    def manage(self):\n",
    "        print(f\"Managing with salary {self.salary}...\")\n",
    "\n",
    "\n",
    "\n",
    "my_manager = Manager(\"John\", 30, 5000)\n",
    "\n",
    "print(my_manager.name)\n",
    "\n",
    "print(my_manager.age)\n",
    "\n",
    "print(my_manager.salary)\n",
    "\n",
    "my_manager.work()\n",
    "\n",
    "my_manager.manage()\n",
    "\n",
    "* Multi-level Inheritance: In multi-level inheritance, a child class inherits from a parent class, which itself inherits from another parent class.\n",
    "\n",
    "class Animal:\n",
    "    \n",
    "    def __init__(self, name):\n",
    "        self.name = name\n",
    "\n",
    "    def eat(self):\n",
    "        print(\"Eating...\")\n",
    "\n",
    "class Dog(Animal):\n",
    "    \n",
    "    def bark(self):\n",
    "        print(\"Barking...\")\n",
    "\n",
    "class Bulldog(Dog):\n",
    "    \n",
    "    def sleep(self):\n",
    "        print(\"Sleeping...\")\n",
    "\n",
    "my_dog = Bulldog(\"Max\")\n",
    "\n",
    "print(my_dog.name)\n",
    "\n",
    "my_dog.eat()\n",
    "\n",
    "my_dog.bark()\n",
    "\n",
    "my_dog.sleep()\n",
    "\n",
    "* Hierarchical Inheritance: In hierarchical inheritance, multiple child classes inherit from a single parent class.\n",
    "\n",
    "class Shape:\n",
    "    \n",
    "    def __init__(self, color):\n",
    "        self.color = color\n",
    "\n",
    "    def draw(self):\n",
    "        print(\"Drawing shape...\")\n",
    "\n",
    "class Circle(Shape):\n",
    "    \n",
    "    def draw(self):\n",
    "        print(f\"Drawing {self.color} circle...\")\n",
    "\n",
    "class Square(Shape):\n",
    "    \n",
    "    def draw(self):\n",
    "        print(f\"Drawing {self.color} square..."
   ]
  }
 ],
 "metadata": {
  "kernelspec": {
   "display_name": "Python 3",
   "language": "python",
   "name": "python3"
  },
  "language_info": {
   "codemirror_mode": {
    "name": "ipython",
    "version": 3
   },
   "file_extension": ".py",
   "mimetype": "text/x-python",
   "name": "python",
   "nbconvert_exporter": "python",
   "pygments_lexer": "ipython3",
   "version": "3.8.8"
  }
 },
 "nbformat": 4,
 "nbformat_minor": 5
}
