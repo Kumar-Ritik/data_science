{
 "cells": [
  {
   "cell_type": "markdown",
   "id": "755b61d9",
   "metadata": {},
   "source": [
    "Q1. What is a database? Differentiate between SQL and NoSQL databases."
   ]
  },
  {
   "cell_type": "markdown",
   "id": "8b8cc0ea",
   "metadata": {},
   "source": [
    "A database is an organized collection of data stored in a computer system. It can be used to store and retrieve information for a variety of purposes, such as managing business operations, scientific research, and storing data for web applications.\n",
    "\n",
    "SQL (Structured Query Language) and NoSQL (Not only SQL) are two main types of database management systems that differ in their data storage and retrieval methods:\n",
    "\n",
    "SQL databases use a structured approach to store data in a tabular format with pre-defined relationships between tables. They are ideal for managing data that has a well-defined structure and requires strong consistency, such as financial transactions, inventory management, and other similar applications. SQL databases are known for their robustness, scalability, and strong consistency, which make them popular for enterprise applications.\n",
    "\n",
    "NoSQL databases, on the other hand, use a non-tabular, non-relational approach to store data. They are designed to handle large volumes of unstructured or semi-structured data, such as social media posts, user-generated content, and real-time data streams. NoSQL databases are known for their flexibility, scalability, and high availability, which make them popular for web and mobile applications."
   ]
  },
  {
   "cell_type": "markdown",
   "id": "a350bcb3",
   "metadata": {},
   "source": [
    "Q2. What is DDL? Explain why CREATE, DROP, ALTER, and TRUNCATE are used with an example."
   ]
  },
  {
   "cell_type": "markdown",
   "id": "3c0c617e",
   "metadata": {},
   "source": [
    "DDL stands for Data Definition Language, which is a set of SQL commands used to define and manage the structure of database objects, such as tables, views, and indexes. DDL statements are used to create, modify, and delete the database schema and the objects within it.\n",
    "\n",
    "CREATE: This command is used to create a new database object, such as a table or view. For example, to create a new table called \"customers\" with columns for customer ID, name, and email, you could use the following SQL statement:\n",
    "\n",
    "CREATE TABLE customers (\n",
    "  id INT PRIMARY KEY,\n",
    "  name VARCHAR(50),\n",
    "  email VARCHAR(50)\n",
    ");\n",
    "\n",
    "DROP: This command is used to delete an existing database object, such as a table or view. For example, to delete the \"customers\" table created in the previous example, you could use the following SQL statement:\n",
    "\n",
    "DROP TABLE customers;\n",
    "\n",
    "ALTER: This command is used to modify the structure of an existing database object, such as a table or view. For example, to add a new column called \"phone\" to the \"customers\" table, you could use the following SQL statement:\n",
    "\n",
    "ALTER TABLE customers\n",
    "ADD COLUMN phone VARCHAR(20);\n",
    "\n",
    "TRUNCATE: This command is used to delete all data from a table while keeping its structure intact. For example, to remove all data from the \"customers\" table, you could use the following SQL statement:\n",
    "\n",
    "TRUNCATE TABLE customers;"
   ]
  },
  {
   "cell_type": "markdown",
   "id": "c5dc3ddf",
   "metadata": {},
   "source": [
    "Q3. What is DML? Explain INSERT, UPDATE, and DELETE with an example."
   ]
  },
  {
   "cell_type": "markdown",
   "id": "c36363d6",
   "metadata": {},
   "source": [
    "DML stands for Data Manipulation Language, which is a set of SQL commands used to manipulate data stored in a database. DML statements are used to insert, update, and delete data in a database table.\n",
    "\n",
    "INSERT: This command is used to add new rows of data to a table. For example, to add a new record for a customer with an ID of 101, a name of \"John Doe,\" and an email address of \"johndoe@example.com\" to the \"customers\" table, you could use the following SQL statement:\n",
    "\n",
    "INSERT INTO customers (id, name, email)\n",
    "VALUES (101, 'John Doe', 'johndoe@example.com');\n",
    "\n",
    "UPDATE: This command is used to modify existing data in a table. For example, to update the email address for the customer with an ID of 101 to \"johndoe2@example.com,\" you could use the following SQL statement:\n",
    "\n",
    "UPDATE customers\n",
    "SET email = 'johndoe2@example.com'\n",
    "WHERE id = 101;\n",
    "\n",
    "DELETE: This command is used to remove one or more rows of data from a table. For example, to delete the customer with an ID of 101 from the \"customers\" table, you could use the following SQL statement:\n",
    "\n",
    "DELETE FROM customers\n",
    "WHERE id = 101;"
   ]
  },
  {
   "cell_type": "markdown",
   "id": "893b78cd",
   "metadata": {},
   "source": [
    "Q4. What is DQL? Explain SELECT with an example."
   ]
  },
  {
   "cell_type": "markdown",
   "id": "7ccb1880",
   "metadata": {},
   "source": [
    "DQL stands for Data Query Language, which is a set of SQL commands used to retrieve data from a database. DQL statements are used to query data from one or more tables in a database.\n",
    "\n",
    "SELECT: This command is used to retrieve data from one or more tables in a database. It can be used to retrieve all columns or selected columns from a table, as well as to filter, sort, and group data. For example, to retrieve all columns for all rows in the \"customers\" table, you could use the following SQL statement:\n",
    "\n",
    "SELECT * FROM customers;"
   ]
  },
  {
   "cell_type": "markdown",
   "id": "b0afa77d",
   "metadata": {},
   "source": [
    "Q5. Explain Primary Key and Foreign Key."
   ]
  },
  {
   "cell_type": "markdown",
   "id": "4af716e3",
   "metadata": {},
   "source": [
    "Primary key and foreign key are two important concepts in database design that are used to establish relationships between tables in a database.\n",
    "\n",
    "Primary Key: A primary key is a unique identifier for a record in a table. It is a column or set of columns that uniquely identifies each row in a table. Primary keys are used to enforce data integrity and ensure that each row in a table is unique. In most cases, primary keys are defined on columns that do not allow null values. Examples of primary keys include customer IDs, order IDs, and product IDs.\n",
    "\n",
    "Foreign Key: A foreign key is a column in a table that is linked to a primary key in another table. It is used to establish a relationship between two tables in a database. The foreign key column in one table contains values that match the primary key column in another table. This relationship is known as a referential constraint. Foreign keys are used to enforce data integrity and ensure that data is consistent across tables. Examples of foreign keys include customer IDs in an orders table that link to customer IDs in a customers table, or product IDs in an order details table that link to product IDs in a products table."
   ]
  },
  {
   "cell_type": "markdown",
   "id": "e6191a22",
   "metadata": {},
   "source": [
    "Q6.Write a python code to connect MySQL to python. Explain the cursor() and execute() method."
   ]
  },
  {
   "cell_type": "code",
   "execution_count": null,
   "id": "c00f0e26",
   "metadata": {},
   "outputs": [],
   "source": [
    "import pymysql\n",
    "\n",
    "conn = pymysql.connect(\n",
    "    host='localhost',\n",
    "    user='root',\n",
    "    password='password',\n",
    "    db='database'\n",
    ")\n",
    "\n",
    "cursor = conn.cursor()\n",
    "\n",
    "cursor.execute('SELECT * FROM your_table_name')\n",
    "\n",
    "results = cursor.fetchall()\n",
    "\n",
    "for row in results:\n",
    "    print(row)\n",
    "cursor.close()\n",
    "conn.close()"
   ]
  },
  {
   "cell_type": "markdown",
   "id": "00aa94c1",
   "metadata": {},
   "source": [
    "we create a cursor object using the cursor() method of the connection object. The cursor is used to execute SQL queries and fetch results from the database.\n",
    "\n",
    "We then execute a SQL query using the execute() method of the cursor object. In this example, we select all rows from a table in the database."
   ]
  }
 ],
 "metadata": {
  "kernelspec": {
   "display_name": "Python 3",
   "language": "python",
   "name": "python3"
  },
  "language_info": {
   "codemirror_mode": {
    "name": "ipython",
    "version": 3
   },
   "file_extension": ".py",
   "mimetype": "text/x-python",
   "name": "python",
   "nbconvert_exporter": "python",
   "pygments_lexer": "ipython3",
   "version": "3.8.8"
  }
 },
 "nbformat": 4,
 "nbformat_minor": 5
}
